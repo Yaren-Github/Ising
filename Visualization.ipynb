{
 "cells": [
  {
   "cell_type": "markdown",
   "metadata": {},
   "source": [
    "## Real time visualization"
   ]
  },
  {
   "cell_type": "code",
   "execution_count": null,
   "metadata": {},
   "outputs": [],
   "source": [
    "include(\"src/mcmc.jl\")\n",
    "include(\"src/visualization.jl\");"
   ]
  },
  {
   "cell_type": "markdown",
   "metadata": {},
   "source": [
    "### Setup sliders to tune parameters"
   ]
  },
  {
   "cell_type": "code",
   "execution_count": null,
   "metadata": {},
   "outputs": [],
   "source": [
    "# Gives us some sliders to manipulate parameters\n",
    "temperature_slider = slider(0.:0.01:10., label=\"temperature\", value=2.26)\n",
    "temperature = observe(temperature_slider)\n",
    "temperature_signal = Signal(2.26)\n",
    "on(val->push!(temperature_signal,val), temperature)\n",
    "display(temperature_slider)\n",
    "\n",
    "h_slider = slider(-5.:0.1:+5., label=\"field\")\n",
    "h = observe(h_slider)\n",
    "h_signal = Signal(0.)\n",
    "on(val->push!(h_signal,val), h)\n",
    "display(h_slider)\n",
    "\n",
    "a_slider = slider(0.:0.1:2., label=\"simulation speed\", value=0.)\n",
    "a = observe(a_slider)\n",
    "a_signal = Signal(0.)\n",
    "on(val->push!(a_signal,val), a)\n",
    "display(a_slider)"
   ]
  },
  {
   "cell_type": "markdown",
   "metadata": {},
   "source": [
    "__Prepare the initial state__\n",
    "\n",
    "*Make sure to call `reset_window()` before changing the system size!*"
   ]
  },
  {
   "cell_type": "code",
   "execution_count": null,
   "metadata": {},
   "outputs": [],
   "source": [
    "reset_window()\n",
    "L=128\n",
    "config0 = frustratedConfiguration(L);\n",
    "cluster = zeros(Bool, L,L);"
   ]
  },
  {
   "cell_type": "markdown",
   "metadata": {},
   "source": [
    "__Prepare the window, signals and primitives. Start the renderloop.__"
   ]
  },
  {
   "cell_type": "code",
   "execution_count": null,
   "metadata": {},
   "outputs": [],
   "source": [
    "if !isdefined(:window) || !isopen(window)\n",
    "    window=glscreen(resolution=(800,800))\n",
    "end\n",
    "\n",
    "reset_window()\n",
    "\n",
    "target_fps = 60\n",
    "timesignal = fps(target_fps)\n",
    "\n",
    "state_map = Reactive.map((_,T,h)->sweep!(config0,div(a[]*L^2,target_fps),1/T,h), timesignal,temperature_signal,h_signal);\n",
    "color_signal=map(_->reshape(color_gen(config0,0.3),L^2,1)[:,1], timesignal)\n",
    "\n",
    "#position = Point2f0[Point2f0(800/L*(xi+1/2),800/L*(yi+1/2)) for (xi,yi) in product(0:L-1,0:L-1)]\n",
    "position = Point3f0[Point3f0(2*xi/L-1.,2*yi/L-1.,0) for (xi,yi) in product(0:L-1,0:L-1)]\n",
    "\n",
    "#square = HyperRectangle(Vec2f0(0),Vec2f0(800/L));\n",
    "square = HyperRectangle(Vec3f0(0.),Vec3f0(2/L,2/L,0));\n",
    "circle = HyperSphere(Point3f0(0),2f0/L);\n",
    "\n",
    "# [diffuse_color, specular_color, ambient_color, position]\n",
    "light  = Vec3f0[Vec3f0(0.0,0.0,0.0), Vec3f0(0.1,0.1,0.1), Vec3f0(1.0,1.0,1.0), Vec3f0(0,0,100)];\n",
    "\n",
    "light=Signal(light)\n",
    "\n",
    "lattice = visualize((square,position),color=color_signal);\n",
    "lattice.children[1].uniforms[:light] = light;\n",
    "\n",
    "_view(lattice,window,camera=:perspective)\n",
    "\n",
    "adjust_cam!(window,eyepos_vec=Vec3f0(0,0,-1))\n",
    "\n",
    "@async renderloop(window)"
   ]
  }
 ],
 "metadata": {
  "kernelspec": {
   "display_name": "Julia 0.6.4",
   "language": "julia",
   "name": "julia-0.6"
  },
  "language_info": {
   "file_extension": ".jl",
   "mimetype": "application/julia",
   "name": "julia",
   "version": "0.6.4"
  }
 },
 "nbformat": 4,
 "nbformat_minor": 2
}
