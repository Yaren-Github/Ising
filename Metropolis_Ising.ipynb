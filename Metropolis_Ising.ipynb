{
 "cells": [
  {
   "cell_type": "markdown",
   "metadata": {},
   "source": [
    "__Load packages for plotting and data handling__"
   ]
  },
  {
   "cell_type": "code",
   "execution_count": null,
   "metadata": {
    "scrolled": true
   },
   "outputs": [],
   "source": [
    "using Plots,LaTeXStrings, StatPlots\n",
    "using DataFrames\n",
    "using DataFramesMeta\n",
    "using Interact"
   ]
  },
  {
   "cell_type": "markdown",
   "metadata": {},
   "source": [
    "__add worker processes for parallel computation__"
   ]
  },
  {
   "cell_type": "code",
   "execution_count": null,
   "metadata": {
    "scrolled": true
   },
   "outputs": [],
   "source": [
    "addprocs(3)"
   ]
  },
  {
   "cell_type": "markdown",
   "metadata": {},
   "source": [
    "### Define simulation routines"
   ]
  },
  {
   "cell_type": "markdown",
   "metadata": {},
   "source": [
    "__Methods for Metropolis__"
   ]
  },
  {
   "cell_type": "code",
   "execution_count": 1,
   "metadata": {},
   "outputs": [],
   "source": [
    "@everywhere begin\n",
    "# returns a LxL Matrix filled randomly with ±1\n",
    "function randomConfiguration(L::Int)\n",
    "    return rand(Int8[-1,1], L,L)\n",
    "end\n",
    "\n",
    "# returns a configuration where all bonds are frustrated\n",
    "function frustratedConfiguration(L::Int)\n",
    "    return Int8[(-1)^(i+j) for i=1:L,j=1:L]\n",
    "end\n",
    "\n",
    "## Energy of configuration\n",
    "## Arguments:\n",
    "##  state    state::Matrix{Int8}\n",
    "##  coupling J::Float64 defaults to 1.0\n",
    "##  field    h::Float64 defaults to 0.0\n",
    "function H(state::Matrix{Int8},J=1.,h=0.)\n",
    "    L = size(state,1)\n",
    "    s = 0.\n",
    "    s = h*(sum(state))\n",
    "    \n",
    "    @inbounds for i in 1:L, j in 1:L\n",
    "        s += -J*state[i,j]*(state[i%L+1,j]+state[i,j%L+1])\n",
    "    end\n",
    "    return s\n",
    "end\n",
    "\n",
    "## Energy difference between the current state `state`\n",
    "## and one spin flipped at position `pos::Int`\n",
    "## Arguments:\n",
    "##  state    state::Matrix{Int8}\n",
    "##  pos      linear index of `state` 1..L^2\n",
    "##  coupling J::Float64 defaults to 1.0\n",
    "##  field    h::Float64 defaults to 0.0\n",
    "function dH(state::Matrix{Int8},pos,J=1.,h=0.)\n",
    "    L = size(state,1)\n",
    "    i,j = ind2sub(state,pos) #convert the linear index to index pair (i,j)\n",
    "    @inbounds return 2*J*state[pos]*( state[i%L+1,j]+state[i,j%L+1]+state[i==1?L:i-1,j]+state[i,j==1?L:j-1] ) + 2*h*state[pos]\n",
    "end\n",
    "\n",
    "## Magnetization per spin\n",
    "function m(state) \n",
    "    Float64(sum(state)/length(state))\n",
    "end\n",
    "    \n",
    "## Perform one step of the Metropolis algorithm.\n",
    "## `state` is mutated.\n",
    "## Arguments:\n",
    "##  state::Matrix{Int8} Current configuration \n",
    "##  beta::Float64       Inverse temperature\n",
    "##  h::Float64          External field\n",
    "function metropolis_step!(state::Matrix{Int8},beta,h)\n",
    "    i = rand(1:length(state))\n",
    "    dh = dH(state,i,1.,h)\n",
    "    if dh <= 0 || rand()<exp(-beta*dh)\n",
    "        state[i] *= -1\n",
    "    end\n",
    "    return nothing\n",
    "end\n",
    "\n",
    "function sweep!(state,n,beta,h)\n",
    "    for _ in 1:n\n",
    "        metropolis_step!(state,beta,h)\n",
    "    end\n",
    "end\n",
    "\n",
    "function init(L,beta,h,sweep)\n",
    "    state = randomConfiguration(L)\n",
    "    # Initial sweep to get into the steady state\n",
    "    sweep!(state,sweep,beta,h)\n",
    "    return state\n",
    "end    \n",
    "\n",
    "## Runs the Metropolis algorithm for a given set of parameters.\n",
    "## Samples in defined intervals along the Markov-Chain.\n",
    "## An initial thermal sweep to go to equilibrium may be specified.\n",
    "## Call like \n",
    "##  run_metropolis(50,0.,0.;Tmax=25*10^3*50^2,poll_interval=10*50^2,sweep=10^3*50^2)\n",
    "##\n",
    "## Arguments\n",
    "##  L::Int             Linear system size\n",
    "##  beta::Float64      Inverse temperature\n",
    "##  h::Float64         External field\n",
    "##  Tmax::Int          Number of steps\n",
    "##  sweep::Int         Length of the initial sweep\n",
    "##  poll_interval::Int Record the observables every `poll_interval` steps.\n",
    "##  repeat::Int Restart the chain\n",
    "    \n",
    "function run_metropolis(L::Int, beta,h;Tmax::Int=1,sweep::Int=0,poll_interval::Int=1)\n",
    "    ## Initialise a random state\n",
    "    state = init(L,beta,h,sweep)\n",
    "    return _run_metropolis!(state,beta,h,Tmax=Tmax,poll_interval=poll_interval)\n",
    "end\n",
    "\n",
    "    \n",
    "function _run_metropolis!(state::Matrix{Int8},beta,h;Tmax::Int=1,poll_interval::Int=1)\n",
    "    \n",
    "    ## Define a matrix in which to record the observables.\n",
    "    ## One row for each observable, e.g E and m.\n",
    "    ## Preallocating the matrix gives much better performance than\n",
    "    ## constructing it on the fly.\n",
    "    observables = zeros(Float64,5)\n",
    "    \n",
    "    k = 0 #counts the number of samples\n",
    "\n",
    "    # pick the middle lattice site for the spin correlation\n",
    "        \n",
    "    t=0 #number of simulation steps\n",
    "    e=0.\n",
    "    mag=0.\n",
    "\n",
    "    @inbounds begin\n",
    "        while(t<Tmax)\n",
    "            ## Do the defined no. of steps before\n",
    "            ## taking a measurement\n",
    "            sweep!(state,poll_interval,beta,h)\n",
    "            \n",
    "            ## Record observables\n",
    "            e = H(state,1.,h)\n",
    "            mag = m(state)\n",
    "            observables[1] += e\n",
    "            observables[2] += e^2\n",
    "            observables[3] += mag\n",
    "            observables[4] += mag^2\n",
    "            observables[5] += mag^4\n",
    "\n",
    "            ## increment counters\n",
    "            k+=1\n",
    "            t+=poll_interval\n",
    "        end\n",
    "    end\n",
    "    ## Return statistics about the observables\n",
    "    return observables/k\n",
    "end\n",
    "    \n",
    "end"
   ]
  },
  {
   "cell_type": "code",
   "execution_count": null,
   "metadata": {},
   "outputs": [],
   "source": [
    "# Record timeseries of M\n",
    "function metropolis_timeseries(L::Int, beta, Tmax, poll_interval=L^2)\n",
    "    state = init(L,beta,0.,1000*L^2)\n",
    "    ts = Vector{Float64}(div(Tmax,poll_interval))\n",
    "    t=0\n",
    "    k=1\n",
    "    mag0 = m(state)\n",
    "    while(t<Tmax)\n",
    "        sweep!(state,poll_interval,beta,0.)\n",
    "        ts[k] = m(state)\n",
    "        k+=1\n",
    "        t+=poll_interval\n",
    "    end\n",
    "    return ts\n",
    "end"
   ]
  },
  {
   "cell_type": "markdown",
   "metadata": {},
   "source": [
    "__Methods for the Wolff algorithm__"
   ]
  },
  {
   "cell_type": "code",
   "execution_count": null,
   "metadata": {},
   "outputs": [],
   "source": [
    "@everywhere begin\n",
    "    function cluster!(cluster_state, state, i,j, p)\n",
    "        @inbounds begin L = size(state, 1)\n",
    "            s = state[i,j]\n",
    "            cluster_state[i,j] = true\n",
    "            for neighbor in [(i%L+1,j),(i,j%L+1),(i==1?L:i-1,j),(i,j==1?L:j-1)]\n",
    "                if state[neighbor...] == s && !cluster_state[neighbor...] && rand()<p\n",
    "                    cluster_state[neighbor...]=true\n",
    "                    cluster!(cluster_state, state, neighbor..., p)\n",
    "                end\n",
    "            end\n",
    "        end\n",
    "    end\n",
    "    \n",
    "    function wolff_step!(state, cluster_state, beta)\n",
    "        @inbounds begin\n",
    "            L = size(state,1)\n",
    "            i,j = rand(1:L,2)\n",
    "            fill!(cluster_state, false)\n",
    "            cluster!(cluster_state, state, i,j, 1.-exp(-2.*beta))\n",
    "            state[cluster_state] *= -1\n",
    "        end\n",
    "        return nothing\n",
    "    end\n",
    "    \n",
    "    function _run_wolff!(state::Matrix{Int8},cluster,beta,h;Tmax::Int=1,poll_interval::Int=1)\n",
    "\n",
    "        ## Define a matrix in which to record the observables.\n",
    "        ## One row for each observable, e.g E and m.\n",
    "        ## Preallocating the matrix gives much better performance than\n",
    "        ## constructing it on the fly.\n",
    "        observables = zeros(Float64,5)\n",
    "\n",
    "        k = 0 #counts the number of samples\n",
    "\n",
    "        # pick the middle lattice site for the spin correlation\n",
    "\n",
    "        t=0 #number of simulation steps\n",
    "        r=0 #repeat counter\n",
    "        e=0.\n",
    "        mag=0.\n",
    "        @inbounds begin\n",
    "            while(t<Tmax)\n",
    "                ## Do the defined no. of steps before\n",
    "                ## taking a measurement\n",
    "                for _ in 1:poll_interval\n",
    "                    wolff_step!(state, cluster, beta)\n",
    "                end\n",
    "                ## Record observables\n",
    "                e = H(state,1.,0.)\n",
    "                mag = m(state)|>abs\n",
    "                observables[1] += e\n",
    "                observables[2] += e^2\n",
    "                observables[3] += mag\n",
    "                observables[4] += mag^2\n",
    "                observables[5] += mag^4\n",
    "\n",
    "                ## increment counters\n",
    "                k+=1\n",
    "                t+=poll_interval\n",
    "            end\n",
    "        end\n",
    "        ## Return statistics about the observables\n",
    "        return observables/k\n",
    "    end\n",
    "    \n",
    "    function run_wolff(L::Int, beta,h;Tmax::Int=1,sweep::Int=0,poll_interval::Int=1)\n",
    "        ## Initialise a random state\n",
    "        function init(L,beta)\n",
    "            state = randomConfiguration(L)\n",
    "            cluster = zeros(Bool,L,L)\n",
    "            # Initial sweep to get into the steady state\n",
    "            for _ in 1:sweep\n",
    "                wolff_step!(state, cluster, beta)\n",
    "            end\n",
    "            return state,cluster\n",
    "        end\n",
    "        \n",
    "        state,cluster = init(L,beta)\n",
    "        return _run_wolff!(state,cluster,beta,0.,Tmax=Tmax,poll_interval=poll_interval)\n",
    "    end    \n",
    "    \n",
    "end"
   ]
  },
  {
   "cell_type": "markdown",
   "metadata": {},
   "source": [
    "---"
   ]
  },
  {
   "cell_type": "markdown",
   "metadata": {},
   "source": [
    "__Onsager critical temperature__"
   ]
  },
  {
   "cell_type": "code",
   "execution_count": null,
   "metadata": {},
   "outputs": [],
   "source": [
    "Tc = 2/log(1+sqrt(2));"
   ]
  },
  {
   "cell_type": "markdown",
   "metadata": {},
   "source": [
    "### Autocorrelation"
   ]
  },
  {
   "cell_type": "code",
   "execution_count": null,
   "metadata": {},
   "outputs": [],
   "source": [
    "let Tmax=10000,L=100\n",
    "@time  ts = mapreduce(vcat, [4.,2.5,2.26,2.0]) do T\n",
    "    df = DataFrame()\n",
    "    df[:t] = collect(1:Tmax-1)\n",
    "    df[:L] = L\n",
    "    df[:T] = T\n",
    "\n",
    "    ts = metropolis_timeseries(L,1/T,Tmax*L^2)\n",
    "    ts -=  mean(ts)\n",
    "\n",
    "    df[:autocor] = map(1:Tmax-1) do t\n",
    "        1./(Tmax-t+1)*sum(ts[1:Tmax-t+1].*ts[t:Tmax])\n",
    "    end\n",
    "    df[:autocor] ./= 1.#df[1,:autocor]\n",
    "    df\n",
    "end\n",
    "end;"
   ]
  },
  {
   "cell_type": "code",
   "execution_count": null,
   "metadata": {},
   "outputs": [],
   "source": [
    "@df @where(ts,:autocor.>0.) plot(:t, :autocor, group=:T, xscale=:log10, xlim=(1,3000), size=(1024,768));"
   ]
  },
  {
   "cell_type": "markdown",
   "metadata": {},
   "source": [
    "### Histogram"
   ]
  },
  {
   "cell_type": "code",
   "execution_count": null,
   "metadata": {},
   "outputs": [],
   "source": [
    "magnetization = DataFrame()\n",
    "let Tmax=50000,L=100\n",
    "@time  magnetization = mapreduce(vcat, [4.,2.5,Tc,2.0,1.0]) do T\n",
    "    df = DataFrame()\n",
    "    df[:t] = collect(1:Tmax)\n",
    "    df[:L] = L\n",
    "    df[:T] = T\n",
    "\n",
    "    df[:m] = metropolis_timeseries(L,1/T,Tmax*L^2)\n",
    "    #ts -=  mean(ts)\n",
    "\n",
    "    df\n",
    "end\n",
    "end;"
   ]
  },
  {
   "cell_type": "code",
   "execution_count": null,
   "metadata": {},
   "outputs": [],
   "source": [
    "magnetization = readtable(\"magnetization-ts-N100.tsv\",separator='\\t')"
   ]
  },
  {
   "cell_type": "code",
   "execution_count": null,
   "metadata": {},
   "outputs": [],
   "source": [
    "writetable(\"magnetization-ts-N100.tsv\",magnetization,separator='\\t')"
   ]
  },
  {
   "cell_type": "code",
   "execution_count": null,
   "metadata": {},
   "outputs": [],
   "source": [
    "@df @where(magnetization, :T.==2.0) plot(:t,(:m))"
   ]
  },
  {
   "cell_type": "code",
   "execution_count": null,
   "metadata": {},
   "outputs": [],
   "source": [
    "@df magnetization histogram(:m, group=:T,alpha=0.6, normalize=false, size=(1024,768));"
   ]
  },
  {
   "cell_type": "markdown",
   "metadata": {},
   "source": [
    "### Simulation"
   ]
  },
  {
   "cell_type": "code",
   "execution_count": null,
   "metadata": {
    "scrolled": true
   },
   "outputs": [],
   "source": [
    "obs = DataFrame(Float64,0,7)\n",
    "names!(obs,[:L,:T,:e,:e2,:m,:m2,:m4])\n",
    "\n",
    "## Temperature range\n",
    "Ts = linspace(2.6,2.0,50)\n",
    "Ls = [10,30,50,100]\n",
    "\n",
    "for L in Ls\n",
    "@everywhere begin state=randomConfiguration($L); end\n",
    "@time map(pmap(Ts) do T\n",
    "        println(\"T=$T\")\n",
    "            \n",
    "#       result = run_wolff(L, 1/T,0.;Tmax=10*10^3,sweep=100*L^2,poll_interval=1)\n",
    "#       result = run_metropolis(L, 1/T,0.;Tmax=50*10^3*L^2,sweep=1000*L^2,poll_interval=10*L^2)\n",
    "            \n",
    "        sweep!(state,1000*(L^2),1/T,0.)            \n",
    "        result = _run_metropolis!(state, 1/T,0.;Tmax=1000*10^3*L^2,poll_interval=100*L^2)\n",
    "\n",
    "        E = result[1]\n",
    "        E2 = result[2]\n",
    "        mag = result[3]\n",
    "        mag2 = result[4]\n",
    "        mag4 = result[5]\n",
    "        [L,T,E,E2,mag,mag2,mag4]'\n",
    "    end) do row\n",
    "        #println(row)\n",
    "        push!(obs,row);\n",
    "    end;\n",
    "end\n",
    "   \n",
    "# obs[:t] = obs[:T]-Tc;\n"
   ]
  },
  {
   "cell_type": "markdown",
   "metadata": {},
   "source": [
    "__Calculate susc. & heat capacity__"
   ]
  },
  {
   "cell_type": "code",
   "execution_count": null,
   "metadata": {},
   "outputs": [],
   "source": [
    "obs[:c] = (obs[:e2].-obs[:e].^2)./(obs[:T].^2)./obs[:L].^2;\n",
    "obs[:chi] = (obs[:m2].-obs[:m].^2)./obs[:T].*obs[:L].^2;"
   ]
  },
  {
   "cell_type": "markdown",
   "metadata": {},
   "source": [
    "__Save/load data__"
   ]
  },
  {
   "cell_type": "code",
   "execution_count": null,
   "metadata": {},
   "outputs": [],
   "source": [
    "writetable(\"metropolis04-N10-30-50-100-longWait.tsv\", obs)"
   ]
  },
  {
   "cell_type": "code",
   "execution_count": null,
   "metadata": {
    "scrolled": true
   },
   "outputs": [],
   "source": [
    "obs = readtable(\"metropolis04-N10-30-50-100-longWait.tsv\");"
   ]
  },
  {
   "cell_type": "code",
   "execution_count": null,
   "metadata": {},
   "outputs": [],
   "source": [
    "tail(obs)"
   ]
  },
  {
   "cell_type": "markdown",
   "metadata": {},
   "source": [
    "### Analysis"
   ]
  },
  {
   "cell_type": "markdown",
   "metadata": {},
   "source": [
    "__Estimate the critical temperature from the heat capacity__"
   ]
  },
  {
   "cell_type": "code",
   "execution_count": null,
   "metadata": {},
   "outputs": [],
   "source": [
    "@df obs plot(:T, abs.(:c), group=:L, legend=true,line=(:dash, 2.), marker=(:auto,3), ylabel=\"spec. heat capacity\")\n",
    "vline!([Tc Tc+0.006],lab=[\"Onsager\" \"numerical\"], lw=3)"
   ]
  },
  {
   "cell_type": "code",
   "execution_count": null,
   "metadata": {},
   "outputs": [],
   "source": [
    "# Estimated critical temperature\n",
    "Tcnum = Tc + 0.006"
   ]
  },
  {
   "cell_type": "markdown",
   "metadata": {},
   "source": [
    "__Define reduced temperature__"
   ]
  },
  {
   "cell_type": "code",
   "execution_count": null,
   "metadata": {},
   "outputs": [],
   "source": [
    "obs[:t] = obs[:T]-Tcnum;"
   ]
  },
  {
   "cell_type": "markdown",
   "metadata": {},
   "source": [
    "__Plot observables__"
   ]
  },
  {
   "cell_type": "code",
   "execution_count": null,
   "metadata": {},
   "outputs": [],
   "source": [
    "@manipulate for L in levels(obs[:L])\n",
    "@df obs[obs[:L].==L,:] plot(:T, [abs.(:m) :chi :e :c],\n",
    "    group=:L, layout=4, legend=false, size=(1024,768),\n",
    "    marker=:square,ms=2., line=(:dash, 2.), ylabel=[L\"\\vert M \\vert\" L\"\\chi\" L\"E/N\" L\"c_h\"])\n",
    "xlabel!(L\"T-T_c\")\n",
    "vline!([[Tcnum] [Tcnum] [Tcnum]],lab=\"Onsager\")\n",
    "end"
   ]
  },
  {
   "cell_type": "markdown",
   "metadata": {},
   "source": [
    "__Split observables in sets above/below $T_c$ __"
   ]
  },
  {
   "cell_type": "code",
   "execution_count": null,
   "metadata": {},
   "outputs": [],
   "source": [
    "obs_above = obs[(obs[:t].>0) .& (obs[:L].==100),:];\n",
    "obs_below = obs[(obs[:t].<0) .& (obs[:L].==100),:];"
   ]
  },
  {
   "cell_type": "markdown",
   "metadata": {},
   "source": [
    "### Critical exponents"
   ]
  },
  {
   "cell_type": "code",
   "execution_count": null,
   "metadata": {},
   "outputs": [],
   "source": [
    "# General Linear Models is used to perform linear regressions.\n",
    "# A simpler package is LsqFit, but it can't deal with DataFrames directly.\n",
    "using GLM"
   ]
  },
  {
   "cell_type": "markdown",
   "metadata": {},
   "source": [
    "__Magnetization__"
   ]
  },
  {
   "cell_type": "code",
   "execution_count": null,
   "metadata": {
    "scrolled": true
   },
   "outputs": [],
   "source": [
    "log_obs = @select(obs_below,logt=log.(abs.(:t)),logm=log.(abs.(:m)));"
   ]
  },
  {
   "cell_type": "code",
   "execution_count": null,
   "metadata": {},
   "outputs": [],
   "source": [
    "beta_regr = lm(@formula(logm ~ logt),log_obs[3:end,:]) # neglect the two datapoints closest to Tc"
   ]
  },
  {
   "cell_type": "code",
   "execution_count": null,
   "metadata": {},
   "outputs": [],
   "source": [
    "scatter(log.(abs.(obs_below[:t])),log.(abs.(obs_below[:m])), xlabel=\"log|T-Tc|\", ylabel=\"log M/N\",legend=false,size=(800,600))\n",
    "#scatter!(log.(abs.(obs_above[:t])),log.(abs.(obs_above[:m])), xlabel=\"log|T-Tc|\", ylabel=\"log\\\\chi\",legend=false)\n",
    "\n",
    "plot!(-7.:-1,t->t*1/8+0.08, lw=3) # exact exponent 1/8\n",
    "#plot!(-5.:-1,t->abs(t)*7/4-11)"
   ]
  },
  {
   "cell_type": "markdown",
   "metadata": {},
   "source": [
    "__Suscpetibility__"
   ]
  },
  {
   "cell_type": "code",
   "execution_count": null,
   "metadata": {},
   "outputs": [],
   "source": [
    "scatter(log.(abs.(obs_below[:t])),log.(abs.(obs_below[:chi])), xlabel=\"log|T-Tc|\", legend=true, marker=:auto, lab=\"below\",size=(800,600))\n",
    "scatter!(log.(abs.(obs_above[:t])),log.(abs.(obs_above[:chi])), xlabel=\"log|T-Tc|\", ylabel=\"log\\\\chi\", marker=(2,:auto), lab=\"above\")\n",
    "\n",
    "plot!(-5.:-1,t->-t*7/4+0.6, lab=\"above\", lw=3)\n",
    "plot!(-5.:-1,t->-t*7/4-3., lab=\"below\", lw=3)"
   ]
  },
  {
   "cell_type": "markdown",
   "metadata": {},
   "source": [
    "__Heat capacity__"
   ]
  },
  {
   "cell_type": "code",
   "execution_count": null,
   "metadata": {},
   "outputs": [],
   "source": [
    "scatter(log.(abs.(obs_below[:t])),log.(obs_below[:c]), xlabel=\"log|T-Tc|\", legend=false, size=(800,600))\n",
    "scatter!(log.(abs.(obs_above[:t])),log.(obs_above[:c]), xlabel=\"log|T-Tc|\", ylabel=\"log C\",legend=false)\n",
    "#\n",
    "plot!(linspace(-5,-1,50),t->-1/2*t-0.9,lw=3.)\n",
    "plot!(linspace(-5,-1,50),t->1.*log(-t)-0.6,lw=3.)\n"
   ]
  },
  {
   "cell_type": "markdown",
   "metadata": {},
   "source": [
    "### Addendum"
   ]
  },
  {
   "cell_type": "markdown",
   "metadata": {},
   "source": [
    "__Binder cumulants__"
   ]
  },
  {
   "cell_type": "markdown",
   "metadata": {},
   "source": [
    "In the unordered phase the distribution of $m$ is a Gaussian around $0$ of width $~1/\\sqrt{t}$, while deep in the ordered phase it is _two_ Gaussians peaked at $\\pm 1$.\n",
    "\n"
   ]
  },
  {
   "cell_type": "code",
   "execution_count": null,
   "metadata": {},
   "outputs": [],
   "source": [
    "@df obs plot(:T, 1.-:m4./3./:m2.^2, group=:L, marker=(:auto, 0.),size=(800,600))\n",
    "vline!([Tc-0.005])"
   ]
  },
  {
   "cell_type": "markdown",
   "metadata": {},
   "source": [
    "## Real time visualization"
   ]
  },
  {
   "cell_type": "code",
   "execution_count": 2,
   "metadata": {},
   "outputs": [],
   "source": [
    "using GLVisualize, GeometryTypes"
   ]
  },
  {
   "cell_type": "code",
   "execution_count": 3,
   "metadata": {},
   "outputs": [
    {
     "data": {
      "text/html": [
       "    <script class='js-collapse-script'>\n",
       "        var curMatch =\n",
       "            window.location.href\n",
       "            .match(/(.*?)\\/notebooks\\/.*\\.ipynb/);\n",
       "\n",
       "        curMatch = curMatch ||\n",
       "            window.location.href\n",
       "            .match(/(.*?)\\/apps\\/.*\\.ipynb/);\n",
       "\n",
       "        if ( curMatch ) {\n",
       "            $('head').append('<base href=\"' + curMatch[1] + '/\">');\n",
       "        }\n",
       "    </script>\n"
      ],
      "text/plain": [
       "HTML{String}(\"    <script class='js-collapse-script'>\\n        var curMatch =\\n            window.location.href\\n            .match(/(.*?)\\\\/notebooks\\\\/.*\\\\.ipynb/);\\n\\n        curMatch = curMatch ||\\n            window.location.href\\n            .match(/(.*?)\\\\/apps\\\\/.*\\\\.ipynb/);\\n\\n        if ( curMatch ) {\\n            \\$('head').append('<base href=\\\"' + curMatch[1] + '/\\\">');\\n        }\\n    </script>\\n\")"
      ]
     },
     "metadata": {},
     "output_type": "display_data"
    },
    {
     "data": {
      "text/html": [
       "<script class='js-collapse-script' src='/assetserver/b92f919d597277debc5ed4c6eb2190cd1960c521-assets/webio/dist/bundle.js'></script>"
      ],
      "text/plain": [
       "HTML{String}(\"<script class='js-collapse-script' src='/assetserver/b92f919d597277debc5ed4c6eb2190cd1960c521-assets/webio/dist/bundle.js'></script>\")"
      ]
     },
     "metadata": {},
     "output_type": "display_data"
    },
    {
     "data": {
      "text/html": [
       "<script class='js-collapse-script' src='/assetserver/b92f919d597277debc5ed4c6eb2190cd1960c521-assets/providers/ijulia_setup.js'></script>"
      ],
      "text/plain": [
       "HTML{String}(\"<script class='js-collapse-script' src='/assetserver/b92f919d597277debc5ed4c6eb2190cd1960c521-assets/providers/ijulia_setup.js'></script>\")"
      ]
     },
     "metadata": {},
     "output_type": "display_data"
    },
    {
     "data": {
      "text/html": [
       "  <script class='js-collapse-script'>\n",
       "    $('.js-collapse-script').parent('.output_subarea').css('padding', '0');\n",
       "  </script>\n"
      ],
      "text/plain": [
       "HTML{String}(\"  <script class='js-collapse-script'>\\n    \\$('.js-collapse-script').parent('.output_subarea').css('padding', '0');\\n  </script>\\n\")"
      ]
     },
     "metadata": {},
     "output_type": "display_data"
    }
   ],
   "source": [
    "using IterTools,Colors,Reactive,Interact"
   ]
  },
  {
   "cell_type": "code",
   "execution_count": 53,
   "metadata": {},
   "outputs": [
    {
     "data": {
      "text/plain": [
       "color_gen (generic function with 1 method)"
      ]
     },
     "execution_count": 53,
     "metadata": {},
     "output_type": "execute_result"
    }
   ],
   "source": [
    "# This function maps the spin state to an array of colors\n",
    "function color_gen(v0,basecolor)\n",
    "    map(v0) do x\n",
    "        if x==1\n",
    "            RGB(0f0,0f0,0f0)\n",
    "        elseif x==-1.\n",
    "            RGB(1f0,min(1f0,Float32(basecolor)),0f0)\n",
    "        end\n",
    "    end\n",
    "end"
   ]
  },
  {
   "cell_type": "code",
   "execution_count": 5,
   "metadata": {},
   "outputs": [
    {
     "data": {
      "text/plain": [
       "reset_window (generic function with 1 method)"
      ]
     },
     "execution_count": 5,
     "metadata": {},
     "output_type": "execute_result"
    }
   ],
   "source": [
    "# Reset window\n",
    "function reset_window()\n",
    "try\n",
    "    empty!(window)\n",
    "    close(color_signal)\n",
    "    close(state_map)\n",
    "    close(timesignal)\n",
    "    close(temperature)\n",
    "catch UndefVarError\n",
    "end\n",
    "end"
   ]
  },
  {
   "cell_type": "code",
   "execution_count": 6,
   "metadata": {},
   "outputs": [
    {
     "data": {
      "text/plain": [
       "adjust_cam! (generic function with 1 method)"
      ]
     },
     "execution_count": 6,
     "metadata": {},
     "output_type": "execute_result"
    }
   ],
   "source": [
    "function adjust_cam!(window;eyepos_vec=Vec3f0(0,0,+1),lookat_vec=Vec3f0(0,0,0),up_vec=cross(lookat_vec-eyepos_vec,-Vec3f0(1,0,0)))\n",
    "    push!(window.cameras[:perspective].eyeposition, eyepos_vec)\n",
    "    push!(window.cameras[:perspective].lookat, lookat_vec)\n",
    "    push!(window.cameras[:perspective].up, up_vec)\n",
    "    push!(window.cameras[:perspective].fov, 90)\n",
    "end"
   ]
  },
  {
   "cell_type": "markdown",
   "metadata": {},
   "source": [
    "__Temperature & field__"
   ]
  },
  {
   "cell_type": "code",
   "execution_count": 75,
   "metadata": {},
   "outputs": [
    {
     "data": {
      "text/plain": [
       "519: \"input-290\" = 0.5 Float64 "
      ]
     },
     "execution_count": 75,
     "metadata": {},
     "output_type": "execute_result"
    }
   ],
   "source": [
    "a_signal"
   ]
  },
  {
   "cell_type": "code",
   "execution_count": 70,
   "metadata": {},
   "outputs": [
    {
     "data": {
      "text/html": [
       "<div class='tex2jax_ignore interactbulma'>\n",
       "<div class='display:none'></div><unsafe-script style='display:none'>\n",
       "WebIO.mount(this.previousSibling,{&quot;props&quot;:{&quot;className&quot;:&quot;field&quot;},&quot;nodeType&quot;:&quot;DOM&quot;,&quot;type&quot;:&quot;node&quot;,&quot;instanceArgs&quot;:{&quot;namespace&quot;:&quot;html&quot;,&quot;tag&quot;:&quot;div&quot;},&quot;children&quot;:[{&quot;props&quot;:{},&quot;nodeType&quot;:&quot;Scope&quot;,&quot;type&quot;:&quot;node&quot;,&quot;instanceArgs&quot;:{&quot;imports&quot;:{&quot;data&quot;:[{&quot;name&quot;:&quot;knockout&quot;,&quot;type&quot;:&quot;js&quot;,&quot;url&quot;:&quot;/assetserver/ddb01ead2eaded5168eefe1a18f880d3b0328eb6-knockout.js&quot;},{&quot;name&quot;:&quot;knockout_punches&quot;,&quot;type&quot;:&quot;js&quot;,&quot;url&quot;:&quot;/assetserver/698ec22cdad2204967a0348a5c3b53cb4dee1aec-knockout_punches.js&quot;},{&quot;name&quot;:null,&quot;type&quot;:&quot;js&quot;,&quot;url&quot;:&quot;/assetserver/ddad6fa7f024c3ebbfbe27332141715f6bd066cb-all.js&quot;},{&quot;name&quot;:null,&quot;type&quot;:&quot;css&quot;,&quot;url&quot;:&quot;/assetserver/7d97d30a94cee2f5183717834003deaa37f5158c-style.css&quot;},{&quot;name&quot;:null,&quot;type&quot;:&quot;css&quot;,&quot;url&quot;:&quot;/assetserver/e83d79c40097aa8b0ac467a3838222cc1e26b401-main.css&quot;}],&quot;type&quot;:&quot;async_block&quot;},&quot;id&quot;:&quot;knockout-component-b704457b-e996-420d-a898-75949bc89f0c&quot;,&quot;handlers&quot;:{&quot;_promises&quot;:{&quot;importsLoaded&quot;:[function (ko, koPunches) {\n",
       "    ko.punches.enableAll();\n",
       "    ko.bindingHandlers.numericValue = {\n",
       "        init : function(element, valueAccessor, allBindings, data, context) {\n",
       "            var stringified = ko.observable(ko.unwrap(valueAccessor()));\n",
       "            stringified.subscribe(function(value) {\n",
       "                var val = parseFloat(value);\n",
       "                if (!isNaN(val)) {\n",
       "                    valueAccessor()(val);\n",
       "                }\n",
       "            })\n",
       "            valueAccessor().subscribe(function(value) {\n",
       "                var str = JSON.stringify(value);\n",
       "                if ((str == &quot;0&quot;) &amp;&amp; ([&quot;-0&quot;, &quot;-0.&quot;].indexOf(stringified()) &gt;= 0))\n",
       "                     return;\n",
       "                 if ([&quot;null&quot;, &quot;&quot;].indexOf(str) &gt;= 0)\n",
       "                     return;\n",
       "                stringified(str);\n",
       "            })\n",
       "            ko.applyBindingsToNode(element, { value: stringified, valueUpdate: allBindings.get(&#39;valueUpdate&#39;)}, context);\n",
       "        }\n",
       "    };\n",
       "    var json_data = JSON.parse(&quot;{\\&quot;changes\\&quot;:0,\\&quot;value\\&quot;:2.26}&quot;);\n",
       "    var self = this;\n",
       "    function AppViewModel() {\n",
       "        for (var key in json_data) {\n",
       "            var el = json_data[key];\n",
       "            this[key] = Array.isArray(el) ? ko.observableArray(el) : ko.observable(el);\n",
       "        }\n",
       "        \n",
       "        [this[&quot;displayedvalue&quot;]=ko.computed(function () {return this.value().toPrecision(6);},this)]\n",
       "        [this[&quot;changes&quot;].subscribe((function (val){!(this.valueFromJulia[&quot;changes&quot;]) ? (WebIO.setval({&quot;name&quot;:&quot;changes&quot;,&quot;scope&quot;:&quot;knockout-component-b704457b-e996-420d-a898-75949bc89f0c&quot;,&quot;id&quot;:&quot;ob_12&quot;,&quot;type&quot;:&quot;observable&quot;},val)) : undefined; return this.valueFromJulia[&quot;changes&quot;]=false}),self),this[&quot;value&quot;].subscribe((function (val){!(this.valueFromJulia[&quot;value&quot;]) ? (WebIO.setval({&quot;name&quot;:&quot;value&quot;,&quot;scope&quot;:&quot;knockout-component-b704457b-e996-420d-a898-75949bc89f0c&quot;,&quot;id&quot;:&quot;ob_11&quot;,&quot;type&quot;:&quot;observable&quot;},val)) : undefined; return this.valueFromJulia[&quot;value&quot;]=false}),self)]\n",
       "        \n",
       "    }\n",
       "    self.model = new AppViewModel();\n",
       "    self.valueFromJulia = {};\n",
       "    for (var key in json_data) {\n",
       "        self.valueFromJulia[key] = false;\n",
       "    }\n",
       "    ko.applyBindings(self.model, self.dom);\n",
       "}\n",
       "]},&quot;changes&quot;:[(function (val){return (val!=this.model[&quot;changes&quot;]()) ? (this.valueFromJulia[&quot;changes&quot;]=true, this.model[&quot;changes&quot;](val)) : undefined})],&quot;value&quot;:[(function (val){return (val!=this.model[&quot;value&quot;]()) ? (this.valueFromJulia[&quot;value&quot;]=true, this.model[&quot;value&quot;](val)) : undefined})]},&quot;systemjs_options&quot;:null,&quot;observables&quot;:{&quot;changes&quot;:{&quot;sync&quot;:false,&quot;id&quot;:&quot;ob_12&quot;,&quot;value&quot;:0},&quot;value&quot;:{&quot;sync&quot;:true,&quot;id&quot;:&quot;ob_11&quot;,&quot;value&quot;:2.26}}},&quot;children&quot;:[{&quot;props&quot;:{&quot;attributes&quot;:{&quot;style&quot;:&quot;display:flex; justify-content:center; align-items:center;&quot;}},&quot;nodeType&quot;:&quot;DOM&quot;,&quot;type&quot;:&quot;node&quot;,&quot;instanceArgs&quot;:{&quot;namespace&quot;:&quot;html&quot;,&quot;tag&quot;:&quot;div&quot;},&quot;children&quot;:[{&quot;props&quot;:{&quot;attributes&quot;:{&quot;style&quot;:&quot;text-align:right;width:18%&quot;}},&quot;nodeType&quot;:&quot;DOM&quot;,&quot;type&quot;:&quot;node&quot;,&quot;instanceArgs&quot;:{&quot;namespace&quot;:&quot;html&quot;,&quot;tag&quot;:&quot;div&quot;},&quot;children&quot;:[{&quot;props&quot;:{&quot;className&quot;:&quot;interact &quot;,&quot;style&quot;:{&quot;padding&quot;:&quot;5px 10px 0px 10px&quot;}},&quot;nodeType&quot;:&quot;DOM&quot;,&quot;type&quot;:&quot;node&quot;,&quot;instanceArgs&quot;:{&quot;namespace&quot;:&quot;html&quot;,&quot;tag&quot;:&quot;label&quot;},&quot;children&quot;:[&quot;temperature&quot;]}]},{&quot;props&quot;:{&quot;attributes&quot;:{&quot;style&quot;:&quot;flex-grow:1; margin: 0 2%&quot;}},&quot;nodeType&quot;:&quot;DOM&quot;,&quot;type&quot;:&quot;node&quot;,&quot;instanceArgs&quot;:{&quot;namespace&quot;:&quot;html&quot;,&quot;tag&quot;:&quot;div&quot;},&quot;children&quot;:[{&quot;props&quot;:{&quot;max&quot;:10.0,&quot;min&quot;:0.0,&quot;attributes&quot;:{&quot;type&quot;:&quot;range&quot;,&quot;data-bind&quot;:&quot;numericValue: value, valueUpdate: &#39;input&#39;, event: {change : function () {this.changes(this.changes()+1)}}&quot;},&quot;step&quot;:0.01,&quot;className&quot;:&quot;slider slider is-fullwidth&quot;,&quot;style&quot;:{}},&quot;nodeType&quot;:&quot;DOM&quot;,&quot;type&quot;:&quot;node&quot;,&quot;instanceArgs&quot;:{&quot;namespace&quot;:&quot;html&quot;,&quot;tag&quot;:&quot;input&quot;},&quot;children&quot;:[]}]},{&quot;props&quot;:{&quot;attributes&quot;:{&quot;style&quot;:&quot;width:18%&quot;}},&quot;nodeType&quot;:&quot;DOM&quot;,&quot;type&quot;:&quot;node&quot;,&quot;instanceArgs&quot;:{&quot;namespace&quot;:&quot;html&quot;,&quot;tag&quot;:&quot;div&quot;},&quot;children&quot;:[{&quot;props&quot;:{&quot;attributes&quot;:{&quot;data-bind&quot;:&quot;text: displayedvalue&quot;}},&quot;nodeType&quot;:&quot;DOM&quot;,&quot;type&quot;:&quot;node&quot;,&quot;instanceArgs&quot;:{&quot;namespace&quot;:&quot;html&quot;,&quot;tag&quot;:&quot;p&quot;},&quot;children&quot;:[]}]}]}]}]})</unsafe-script>\n",
       "</div>"
      ],
      "text/plain": [
       "(div { className=\"field\" }\n",
       "    (div { attributes=Dict(\"style\"=>\"display:flex; justify-content:center; align-items:center;\") }\n",
       "    (div { attributes=Dict(\"style\"=>\"text-align:right;width:18%\") }\n",
       "      (label { className=\"interact \" style=Dict{Any,Any}(Pair{Any,Any}(:padding, \"5px 10px 0px 10px\")) }\n",
       "        \"temperature\"))\n",
       "    (div { attributes=Dict(\"style\"=>\"flex-grow:1; margin: 0 2%\") }\n",
       "      (input { max=10.0 min=0.0 attributes=Dict{Any,Any}(Pair{Any,Any}(:type, \"range\"),Pair{Any,Any}(Symbol(\"data-bind\"), \"numericValue: value, valueUpdate: 'input', event: {change : function () {this.changes(this.changes()+1)}}\")) step=0.01 className=\"slider slider is-fullwidth\" style=Dict{Any,Any}() }))\n",
       "    (div { attributes=Dict(\"style\"=>\"width:18%\") }\n",
       "      (p { attributes=Dict(\"data-bind\"=>\"text: displayedvalue\") }))))"
      ]
     },
     "metadata": {},
     "output_type": "display_data"
    },
    {
     "data": {
      "text/html": [
       "<div class='tex2jax_ignore interactbulma'>\n",
       "<div class='display:none'></div><unsafe-script style='display:none'>\n",
       "WebIO.mount(this.previousSibling,{&quot;props&quot;:{&quot;className&quot;:&quot;field&quot;},&quot;nodeType&quot;:&quot;DOM&quot;,&quot;type&quot;:&quot;node&quot;,&quot;instanceArgs&quot;:{&quot;namespace&quot;:&quot;html&quot;,&quot;tag&quot;:&quot;div&quot;},&quot;children&quot;:[{&quot;props&quot;:{},&quot;nodeType&quot;:&quot;Scope&quot;,&quot;type&quot;:&quot;node&quot;,&quot;instanceArgs&quot;:{&quot;imports&quot;:{&quot;data&quot;:[{&quot;name&quot;:&quot;knockout&quot;,&quot;type&quot;:&quot;js&quot;,&quot;url&quot;:&quot;/assetserver/ddb01ead2eaded5168eefe1a18f880d3b0328eb6-knockout.js&quot;},{&quot;name&quot;:&quot;knockout_punches&quot;,&quot;type&quot;:&quot;js&quot;,&quot;url&quot;:&quot;/assetserver/698ec22cdad2204967a0348a5c3b53cb4dee1aec-knockout_punches.js&quot;},{&quot;name&quot;:null,&quot;type&quot;:&quot;js&quot;,&quot;url&quot;:&quot;/assetserver/ddad6fa7f024c3ebbfbe27332141715f6bd066cb-all.js&quot;},{&quot;name&quot;:null,&quot;type&quot;:&quot;css&quot;,&quot;url&quot;:&quot;/assetserver/7d97d30a94cee2f5183717834003deaa37f5158c-style.css&quot;},{&quot;name&quot;:null,&quot;type&quot;:&quot;css&quot;,&quot;url&quot;:&quot;/assetserver/e83d79c40097aa8b0ac467a3838222cc1e26b401-main.css&quot;}],&quot;type&quot;:&quot;async_block&quot;},&quot;id&quot;:&quot;knockout-component-0410ac86-1364-4c2b-8a2e-5207aae9fba0&quot;,&quot;handlers&quot;:{&quot;_promises&quot;:{&quot;importsLoaded&quot;:[function (ko, koPunches) {\n",
       "    ko.punches.enableAll();\n",
       "    ko.bindingHandlers.numericValue = {\n",
       "        init : function(element, valueAccessor, allBindings, data, context) {\n",
       "            var stringified = ko.observable(ko.unwrap(valueAccessor()));\n",
       "            stringified.subscribe(function(value) {\n",
       "                var val = parseFloat(value);\n",
       "                if (!isNaN(val)) {\n",
       "                    valueAccessor()(val);\n",
       "                }\n",
       "            })\n",
       "            valueAccessor().subscribe(function(value) {\n",
       "                var str = JSON.stringify(value);\n",
       "                if ((str == &quot;0&quot;) &amp;&amp; ([&quot;-0&quot;, &quot;-0.&quot;].indexOf(stringified()) &gt;= 0))\n",
       "                     return;\n",
       "                 if ([&quot;null&quot;, &quot;&quot;].indexOf(str) &gt;= 0)\n",
       "                     return;\n",
       "                stringified(str);\n",
       "            })\n",
       "            ko.applyBindingsToNode(element, { value: stringified, valueUpdate: allBindings.get(&#39;valueUpdate&#39;)}, context);\n",
       "        }\n",
       "    };\n",
       "    var json_data = JSON.parse(&quot;{\\&quot;changes\\&quot;:0,\\&quot;value\\&quot;:0.0}&quot;);\n",
       "    var self = this;\n",
       "    function AppViewModel() {\n",
       "        for (var key in json_data) {\n",
       "            var el = json_data[key];\n",
       "            this[key] = Array.isArray(el) ? ko.observableArray(el) : ko.observable(el);\n",
       "        }\n",
       "        \n",
       "        [this[&quot;displayedvalue&quot;]=ko.computed(function () {return this.value().toPrecision(6);},this)]\n",
       "        [this[&quot;changes&quot;].subscribe((function (val){!(this.valueFromJulia[&quot;changes&quot;]) ? (WebIO.setval({&quot;name&quot;:&quot;changes&quot;,&quot;scope&quot;:&quot;knockout-component-0410ac86-1364-4c2b-8a2e-5207aae9fba0&quot;,&quot;id&quot;:&quot;ob_15&quot;,&quot;type&quot;:&quot;observable&quot;},val)) : undefined; return this.valueFromJulia[&quot;changes&quot;]=false}),self),this[&quot;value&quot;].subscribe((function (val){!(this.valueFromJulia[&quot;value&quot;]) ? (WebIO.setval({&quot;name&quot;:&quot;value&quot;,&quot;scope&quot;:&quot;knockout-component-0410ac86-1364-4c2b-8a2e-5207aae9fba0&quot;,&quot;id&quot;:&quot;ob_14&quot;,&quot;type&quot;:&quot;observable&quot;},val)) : undefined; return this.valueFromJulia[&quot;value&quot;]=false}),self)]\n",
       "        \n",
       "    }\n",
       "    self.model = new AppViewModel();\n",
       "    self.valueFromJulia = {};\n",
       "    for (var key in json_data) {\n",
       "        self.valueFromJulia[key] = false;\n",
       "    }\n",
       "    ko.applyBindings(self.model, self.dom);\n",
       "}\n",
       "]},&quot;changes&quot;:[(function (val){return (val!=this.model[&quot;changes&quot;]()) ? (this.valueFromJulia[&quot;changes&quot;]=true, this.model[&quot;changes&quot;](val)) : undefined})],&quot;value&quot;:[(function (val){return (val!=this.model[&quot;value&quot;]()) ? (this.valueFromJulia[&quot;value&quot;]=true, this.model[&quot;value&quot;](val)) : undefined})]},&quot;systemjs_options&quot;:null,&quot;observables&quot;:{&quot;changes&quot;:{&quot;sync&quot;:false,&quot;id&quot;:&quot;ob_15&quot;,&quot;value&quot;:0},&quot;value&quot;:{&quot;sync&quot;:true,&quot;id&quot;:&quot;ob_14&quot;,&quot;value&quot;:0.0}}},&quot;children&quot;:[{&quot;props&quot;:{&quot;attributes&quot;:{&quot;style&quot;:&quot;display:flex; justify-content:center; align-items:center;&quot;}},&quot;nodeType&quot;:&quot;DOM&quot;,&quot;type&quot;:&quot;node&quot;,&quot;instanceArgs&quot;:{&quot;namespace&quot;:&quot;html&quot;,&quot;tag&quot;:&quot;div&quot;},&quot;children&quot;:[{&quot;props&quot;:{&quot;attributes&quot;:{&quot;style&quot;:&quot;text-align:right;width:18%&quot;}},&quot;nodeType&quot;:&quot;DOM&quot;,&quot;type&quot;:&quot;node&quot;,&quot;instanceArgs&quot;:{&quot;namespace&quot;:&quot;html&quot;,&quot;tag&quot;:&quot;div&quot;},&quot;children&quot;:[{&quot;props&quot;:{&quot;className&quot;:&quot;interact &quot;,&quot;style&quot;:{&quot;padding&quot;:&quot;5px 10px 0px 10px&quot;}},&quot;nodeType&quot;:&quot;DOM&quot;,&quot;type&quot;:&quot;node&quot;,&quot;instanceArgs&quot;:{&quot;namespace&quot;:&quot;html&quot;,&quot;tag&quot;:&quot;label&quot;},&quot;children&quot;:[&quot;field&quot;]}]},{&quot;props&quot;:{&quot;attributes&quot;:{&quot;style&quot;:&quot;flex-grow:1; margin: 0 2%&quot;}},&quot;nodeType&quot;:&quot;DOM&quot;,&quot;type&quot;:&quot;node&quot;,&quot;instanceArgs&quot;:{&quot;namespace&quot;:&quot;html&quot;,&quot;tag&quot;:&quot;div&quot;},&quot;children&quot;:[{&quot;props&quot;:{&quot;max&quot;:5.0,&quot;min&quot;:-5.0,&quot;attributes&quot;:{&quot;type&quot;:&quot;range&quot;,&quot;data-bind&quot;:&quot;numericValue: value, valueUpdate: &#39;input&#39;, event: {change : function () {this.changes(this.changes()+1)}}&quot;},&quot;step&quot;:0.1,&quot;className&quot;:&quot;slider slider is-fullwidth&quot;,&quot;style&quot;:{}},&quot;nodeType&quot;:&quot;DOM&quot;,&quot;type&quot;:&quot;node&quot;,&quot;instanceArgs&quot;:{&quot;namespace&quot;:&quot;html&quot;,&quot;tag&quot;:&quot;input&quot;},&quot;children&quot;:[]}]},{&quot;props&quot;:{&quot;attributes&quot;:{&quot;style&quot;:&quot;width:18%&quot;}},&quot;nodeType&quot;:&quot;DOM&quot;,&quot;type&quot;:&quot;node&quot;,&quot;instanceArgs&quot;:{&quot;namespace&quot;:&quot;html&quot;,&quot;tag&quot;:&quot;div&quot;},&quot;children&quot;:[{&quot;props&quot;:{&quot;attributes&quot;:{&quot;data-bind&quot;:&quot;text: displayedvalue&quot;}},&quot;nodeType&quot;:&quot;DOM&quot;,&quot;type&quot;:&quot;node&quot;,&quot;instanceArgs&quot;:{&quot;namespace&quot;:&quot;html&quot;,&quot;tag&quot;:&quot;p&quot;},&quot;children&quot;:[]}]}]}]}]})</unsafe-script>\n",
       "</div>"
      ],
      "text/plain": [
       "(div { className=\"field\" }\n",
       "    (div { attributes=Dict(\"style\"=>\"display:flex; justify-content:center; align-items:center;\") }\n",
       "    (div { attributes=Dict(\"style\"=>\"text-align:right;width:18%\") }\n",
       "      (label { className=\"interact \" style=Dict{Any,Any}(Pair{Any,Any}(:padding, \"5px 10px 0px 10px\")) }\n",
       "        \"field\"))\n",
       "    (div { attributes=Dict(\"style\"=>\"flex-grow:1; margin: 0 2%\") }\n",
       "      (input { max=5.0 min=-5.0 attributes=Dict{Any,Any}(Pair{Any,Any}(:type, \"range\"),Pair{Any,Any}(Symbol(\"data-bind\"), \"numericValue: value, valueUpdate: 'input', event: {change : function () {this.changes(this.changes()+1)}}\")) step=0.1 className=\"slider slider is-fullwidth\" style=Dict{Any,Any}() }))\n",
       "    (div { attributes=Dict(\"style\"=>\"width:18%\") }\n",
       "      (p { attributes=Dict(\"data-bind\"=>\"text: displayedvalue\") }))))"
      ]
     },
     "metadata": {},
     "output_type": "display_data"
    },
    {
     "data": {
      "text/html": [
       "<div class='tex2jax_ignore interactbulma'>\n",
       "<div class='display:none'></div><unsafe-script style='display:none'>\n",
       "WebIO.mount(this.previousSibling,{&quot;props&quot;:{&quot;className&quot;:&quot;field&quot;},&quot;nodeType&quot;:&quot;DOM&quot;,&quot;type&quot;:&quot;node&quot;,&quot;instanceArgs&quot;:{&quot;namespace&quot;:&quot;html&quot;,&quot;tag&quot;:&quot;div&quot;},&quot;children&quot;:[{&quot;props&quot;:{},&quot;nodeType&quot;:&quot;Scope&quot;,&quot;type&quot;:&quot;node&quot;,&quot;instanceArgs&quot;:{&quot;imports&quot;:{&quot;data&quot;:[{&quot;name&quot;:&quot;knockout&quot;,&quot;type&quot;:&quot;js&quot;,&quot;url&quot;:&quot;/assetserver/ddb01ead2eaded5168eefe1a18f880d3b0328eb6-knockout.js&quot;},{&quot;name&quot;:&quot;knockout_punches&quot;,&quot;type&quot;:&quot;js&quot;,&quot;url&quot;:&quot;/assetserver/698ec22cdad2204967a0348a5c3b53cb4dee1aec-knockout_punches.js&quot;},{&quot;name&quot;:null,&quot;type&quot;:&quot;js&quot;,&quot;url&quot;:&quot;/assetserver/ddad6fa7f024c3ebbfbe27332141715f6bd066cb-all.js&quot;},{&quot;name&quot;:null,&quot;type&quot;:&quot;css&quot;,&quot;url&quot;:&quot;/assetserver/7d97d30a94cee2f5183717834003deaa37f5158c-style.css&quot;},{&quot;name&quot;:null,&quot;type&quot;:&quot;css&quot;,&quot;url&quot;:&quot;/assetserver/e83d79c40097aa8b0ac467a3838222cc1e26b401-main.css&quot;}],&quot;type&quot;:&quot;async_block&quot;},&quot;id&quot;:&quot;knockout-component-9d70b661-e398-4afc-92c6-461fe1b979cd&quot;,&quot;handlers&quot;:{&quot;_promises&quot;:{&quot;importsLoaded&quot;:[function (ko, koPunches) {\n",
       "    ko.punches.enableAll();\n",
       "    ko.bindingHandlers.numericValue = {\n",
       "        init : function(element, valueAccessor, allBindings, data, context) {\n",
       "            var stringified = ko.observable(ko.unwrap(valueAccessor()));\n",
       "            stringified.subscribe(function(value) {\n",
       "                var val = parseFloat(value);\n",
       "                if (!isNaN(val)) {\n",
       "                    valueAccessor()(val);\n",
       "                }\n",
       "            })\n",
       "            valueAccessor().subscribe(function(value) {\n",
       "                var str = JSON.stringify(value);\n",
       "                if ((str == &quot;0&quot;) &amp;&amp; ([&quot;-0&quot;, &quot;-0.&quot;].indexOf(stringified()) &gt;= 0))\n",
       "                     return;\n",
       "                 if ([&quot;null&quot;, &quot;&quot;].indexOf(str) &gt;= 0)\n",
       "                     return;\n",
       "                stringified(str);\n",
       "            })\n",
       "            ko.applyBindingsToNode(element, { value: stringified, valueUpdate: allBindings.get(&#39;valueUpdate&#39;)}, context);\n",
       "        }\n",
       "    };\n",
       "    var json_data = JSON.parse(&quot;{\\&quot;changes\\&quot;:0,\\&quot;value\\&quot;:0.0}&quot;);\n",
       "    var self = this;\n",
       "    function AppViewModel() {\n",
       "        for (var key in json_data) {\n",
       "            var el = json_data[key];\n",
       "            this[key] = Array.isArray(el) ? ko.observableArray(el) : ko.observable(el);\n",
       "        }\n",
       "        \n",
       "        [this[&quot;displayedvalue&quot;]=ko.computed(function () {return this.value().toPrecision(6);},this)]\n",
       "        [this[&quot;changes&quot;].subscribe((function (val){!(this.valueFromJulia[&quot;changes&quot;]) ? (WebIO.setval({&quot;name&quot;:&quot;changes&quot;,&quot;scope&quot;:&quot;knockout-component-9d70b661-e398-4afc-92c6-461fe1b979cd&quot;,&quot;id&quot;:&quot;ob_18&quot;,&quot;type&quot;:&quot;observable&quot;},val)) : undefined; return this.valueFromJulia[&quot;changes&quot;]=false}),self),this[&quot;value&quot;].subscribe((function (val){!(this.valueFromJulia[&quot;value&quot;]) ? (WebIO.setval({&quot;name&quot;:&quot;value&quot;,&quot;scope&quot;:&quot;knockout-component-9d70b661-e398-4afc-92c6-461fe1b979cd&quot;,&quot;id&quot;:&quot;ob_17&quot;,&quot;type&quot;:&quot;observable&quot;},val)) : undefined; return this.valueFromJulia[&quot;value&quot;]=false}),self)]\n",
       "        \n",
       "    }\n",
       "    self.model = new AppViewModel();\n",
       "    self.valueFromJulia = {};\n",
       "    for (var key in json_data) {\n",
       "        self.valueFromJulia[key] = false;\n",
       "    }\n",
       "    ko.applyBindings(self.model, self.dom);\n",
       "}\n",
       "]},&quot;changes&quot;:[(function (val){return (val!=this.model[&quot;changes&quot;]()) ? (this.valueFromJulia[&quot;changes&quot;]=true, this.model[&quot;changes&quot;](val)) : undefined})],&quot;value&quot;:[(function (val){return (val!=this.model[&quot;value&quot;]()) ? (this.valueFromJulia[&quot;value&quot;]=true, this.model[&quot;value&quot;](val)) : undefined})]},&quot;systemjs_options&quot;:null,&quot;observables&quot;:{&quot;changes&quot;:{&quot;sync&quot;:false,&quot;id&quot;:&quot;ob_18&quot;,&quot;value&quot;:0},&quot;value&quot;:{&quot;sync&quot;:true,&quot;id&quot;:&quot;ob_17&quot;,&quot;value&quot;:0.0}}},&quot;children&quot;:[{&quot;props&quot;:{&quot;attributes&quot;:{&quot;style&quot;:&quot;display:flex; justify-content:center; align-items:center;&quot;}},&quot;nodeType&quot;:&quot;DOM&quot;,&quot;type&quot;:&quot;node&quot;,&quot;instanceArgs&quot;:{&quot;namespace&quot;:&quot;html&quot;,&quot;tag&quot;:&quot;div&quot;},&quot;children&quot;:[{&quot;props&quot;:{&quot;attributes&quot;:{&quot;style&quot;:&quot;text-align:right;width:18%&quot;}},&quot;nodeType&quot;:&quot;DOM&quot;,&quot;type&quot;:&quot;node&quot;,&quot;instanceArgs&quot;:{&quot;namespace&quot;:&quot;html&quot;,&quot;tag&quot;:&quot;div&quot;},&quot;children&quot;:[{&quot;props&quot;:{&quot;className&quot;:&quot;interact &quot;,&quot;style&quot;:{&quot;padding&quot;:&quot;5px 10px 0px 10px&quot;}},&quot;nodeType&quot;:&quot;DOM&quot;,&quot;type&quot;:&quot;node&quot;,&quot;instanceArgs&quot;:{&quot;namespace&quot;:&quot;html&quot;,&quot;tag&quot;:&quot;label&quot;},&quot;children&quot;:[&quot;simulation speed&quot;]}]},{&quot;props&quot;:{&quot;attributes&quot;:{&quot;style&quot;:&quot;flex-grow:1; margin: 0 2%&quot;}},&quot;nodeType&quot;:&quot;DOM&quot;,&quot;type&quot;:&quot;node&quot;,&quot;instanceArgs&quot;:{&quot;namespace&quot;:&quot;html&quot;,&quot;tag&quot;:&quot;div&quot;},&quot;children&quot;:[{&quot;props&quot;:{&quot;max&quot;:2.0,&quot;min&quot;:0.0,&quot;attributes&quot;:{&quot;type&quot;:&quot;range&quot;,&quot;data-bind&quot;:&quot;numericValue: value, valueUpdate: &#39;input&#39;, event: {change : function () {this.changes(this.changes()+1)}}&quot;},&quot;step&quot;:0.1,&quot;className&quot;:&quot;slider slider is-fullwidth&quot;,&quot;style&quot;:{}},&quot;nodeType&quot;:&quot;DOM&quot;,&quot;type&quot;:&quot;node&quot;,&quot;instanceArgs&quot;:{&quot;namespace&quot;:&quot;html&quot;,&quot;tag&quot;:&quot;input&quot;},&quot;children&quot;:[]}]},{&quot;props&quot;:{&quot;attributes&quot;:{&quot;style&quot;:&quot;width:18%&quot;}},&quot;nodeType&quot;:&quot;DOM&quot;,&quot;type&quot;:&quot;node&quot;,&quot;instanceArgs&quot;:{&quot;namespace&quot;:&quot;html&quot;,&quot;tag&quot;:&quot;div&quot;},&quot;children&quot;:[{&quot;props&quot;:{&quot;attributes&quot;:{&quot;data-bind&quot;:&quot;text: displayedvalue&quot;}},&quot;nodeType&quot;:&quot;DOM&quot;,&quot;type&quot;:&quot;node&quot;,&quot;instanceArgs&quot;:{&quot;namespace&quot;:&quot;html&quot;,&quot;tag&quot;:&quot;p&quot;},&quot;children&quot;:[]}]}]}]}]})</unsafe-script>\n",
       "</div>"
      ],
      "text/plain": [
       "(div { className=\"field\" }\n",
       "    (div { attributes=Dict(\"style\"=>\"display:flex; justify-content:center; align-items:center;\") }\n",
       "    (div { attributes=Dict(\"style\"=>\"text-align:right;width:18%\") }\n",
       "      (label { className=\"interact \" style=Dict{Any,Any}(Pair{Any,Any}(:padding, \"5px 10px 0px 10px\")) }\n",
       "        \"simulation speed\"))\n",
       "    (div { attributes=Dict(\"style\"=>\"flex-grow:1; margin: 0 2%\") }\n",
       "      (input { max=2.0 min=0.0 attributes=Dict{Any,Any}(Pair{Any,Any}(:type, \"range\"),Pair{Any,Any}(Symbol(\"data-bind\"), \"numericValue: value, valueUpdate: 'input', event: {change : function () {this.changes(this.changes()+1)}}\")) step=0.1 className=\"slider slider is-fullwidth\" style=Dict{Any,Any}() }))\n",
       "    (div { attributes=Dict(\"style\"=>\"width:18%\") }\n",
       "      (p { attributes=Dict(\"data-bind\"=>\"text: displayedvalue\") }))))"
      ]
     },
     "metadata": {},
     "output_type": "display_data"
    }
   ],
   "source": [
    "# Gives us some sliders to manipulate parameters\n",
    "temperature_slider = slider(0.:0.01:10., label=\"temperature\", value=2.26)\n",
    "temperature = observe(temperature_slider)\n",
    "temperature_signal = Signal(2.26)\n",
    "on(val->push!(temperature_signal,val), temperature)\n",
    "display(temperature_slider)\n",
    "\n",
    "h_slider = slider(-5.:0.1:+5., label=\"field\")\n",
    "h = observe(h_slider)\n",
    "h_signal = Signal(0.)\n",
    "on(val->push!(h_signal,val), h)\n",
    "display(h_slider)\n",
    "\n",
    "a_slider = slider(0.:0.1:2., label=\"simulation speed\", value=0.)\n",
    "a = observe(a_slider)\n",
    "a_signal = Signal(0.)\n",
    "on(val->push!(a_signal,val), a)\n",
    "display(a_slider)"
   ]
  },
  {
   "cell_type": "code",
   "execution_count": null,
   "metadata": {},
   "outputs": [],
   "source": []
  },
  {
   "cell_type": "code",
   "execution_count": 134,
   "metadata": {},
   "outputs": [
    {
     "data": {
      "text/plain": [
       "3.85"
      ]
     },
     "execution_count": 134,
     "metadata": {},
     "output_type": "execute_result"
    }
   ],
   "source": [
    "# 3.85 is the transition field strength at T=0.03\n",
    "h[] = +3.85"
   ]
  },
  {
   "cell_type": "markdown",
   "metadata": {},
   "source": [
    "__Prepare the initial state__\n",
    "\n",
    "*Make sure to call `reset_window()` before changing the system size!*"
   ]
  },
  {
   "cell_type": "code",
   "execution_count": 87,
   "metadata": {},
   "outputs": [],
   "source": [
    "reset_window()"
   ]
  },
  {
   "cell_type": "code",
   "execution_count": 88,
   "metadata": {},
   "outputs": [],
   "source": [
    "L=128\n",
    "config0 = frustratedConfiguration(L);\n",
    "cluster = zeros(Bool, L,L)\n",
    "#config0 = randomConfiguration(L);\n",
    "sweep!(config0,0,1/temperature[],0.)"
   ]
  },
  {
   "cell_type": "markdown",
   "metadata": {},
   "source": [
    "__Prepare the window, signals and primitives__"
   ]
  },
  {
   "cell_type": "code",
   "execution_count": 95,
   "metadata": {},
   "outputs": [],
   "source": [
    "if !isdefined(:window) || !isopen(window)\n",
    "    window=glscreen(resolution=(800,800))\n",
    "end\n",
    "\n",
    "reset_window()\n",
    "\n",
    "target_fps = 60\n",
    "timesignal = fps(target_fps)\n",
    "\n",
    "state_map = Reactive.map((_,T,h)->sweep!(config0,div(a[]*L^2,target_fps),1/T,h), timesignal,temperature_signal,h_signal);\n",
    "color_signal=map(_->reshape(color_gen(config0,0.3),L^2,1)[:,1], timesignal)\n",
    "\n",
    "#position = Point2f0[Point2f0(800/L*(xi+1/2),800/L*(yi+1/2)) for (xi,yi) in product(0:L-1,0:L-1)]\n",
    "position = Point3f0[Point3f0(2*xi/L-1.,2*yi/L-1.,0) for (xi,yi) in product(0:L-1,0:L-1)]\n",
    "\n",
    "#square = HyperRectangle(Vec2f0(0),Vec2f0(800/L));\n",
    "square = HyperRectangle(Vec3f0(0.),Vec3f0(2/L,2/L,0));\n",
    "circle = HyperSphere(Point3f0(0),2f0/L);"
   ]
  },
  {
   "cell_type": "markdown",
   "metadata": {},
   "source": [
    "__Visualize the lattice__"
   ]
  },
  {
   "cell_type": "code",
   "execution_count": 93,
   "metadata": {},
   "outputs": [],
   "source": [
    "# [diffuse_color, specular_color, ambient_color, position]\n",
    "light  = Vec3f0[Vec3f0(0.0,0.0,0.0), Vec3f0(0.1,0.1,0.1), Vec3f0(1.0,1.0,1.0), Vec3f0(0,0,100)];"
   ]
  },
  {
   "cell_type": "code",
   "execution_count": 30,
   "metadata": {},
   "outputs": [
    {
     "data": {
      "text/plain": [
       "208: \"input-127\" = GeometryTypes.Vec{3,Float32}[Float32[1.0, 1.0, 1.0], Float32[0.1, 0.1, 0.1], Float32[1.0, 1.0, 1.0], Float32[0.0, 0.0, 10.0]] Array{GeometryTypes.Vec{3,Float32},1} "
      ]
     },
     "execution_count": 30,
     "metadata": {},
     "output_type": "execute_result"
    }
   ],
   "source": [
    "light=Signal(light)"
   ]
  },
  {
   "cell_type": "code",
   "execution_count": 13,
   "metadata": {},
   "outputs": [],
   "source": [
    "using GLAbstraction"
   ]
  },
  {
   "cell_type": "code",
   "execution_count": 96,
   "metadata": {},
   "outputs": [],
   "source": [
    "lattice = visualize((square,position),color=color_signal);\n",
    "lattice.children[1].uniforms[:light] = light;"
   ]
  },
  {
   "cell_type": "code",
   "execution_count": 97,
   "metadata": {},
   "outputs": [],
   "source": [
    "_view(lattice,window,camera=:perspective)"
   ]
  },
  {
   "cell_type": "code",
   "execution_count": 94,
   "metadata": {},
   "outputs": [
    {
     "data": {
      "text/plain": [
       "4-element Array{GeometryTypes.Vec{3,Float32},1}:\n",
       " Float32[0.0, 0.0, 0.0]  \n",
       " Float32[0.1, 0.1, 0.1]  \n",
       " Float32[1.0, 1.0, 1.0]  \n",
       " Float32[0.0, 0.0, 100.0]"
      ]
     },
     "execution_count": 94,
     "metadata": {},
     "output_type": "execute_result"
    }
   ],
   "source": []
  },
  {
   "cell_type": "markdown",
   "metadata": {},
   "source": [
    "__Adjust the camera to look from above into the xy-plane__"
   ]
  },
  {
   "cell_type": "code",
   "execution_count": 65,
   "metadata": {},
   "outputs": [],
   "source": [
    "adjust_cam!(window,eyepos_vec=Vec3f0(0,0,-1))"
   ]
  },
  {
   "cell_type": "markdown",
   "metadata": {},
   "source": [
    "__Start the render loop__"
   ]
  },
  {
   "cell_type": "code",
   "execution_count": 36,
   "metadata": {},
   "outputs": [
    {
     "data": {
      "text/plain": [
       "Task (runnable) @0x000000011cac7850"
      ]
     },
     "execution_count": 36,
     "metadata": {},
     "output_type": "execute_result"
    }
   ],
   "source": [
    "@async renderloop(window)"
   ]
  }
 ],
 "metadata": {
  "anaconda-cloud": {},
  "kernelspec": {
   "display_name": "Julia 0.6.4",
   "language": "julia",
   "name": "julia-0.6"
  },
  "language_info": {
   "file_extension": ".jl",
   "mimetype": "application/julia",
   "name": "julia",
   "version": "0.6.4"
  },
  "widgets": {
   "application/vnd.jupyter.widget-state+json": {
    "state": {},
    "version_major": 2,
    "version_minor": 0
   }
  }
 },
 "nbformat": 4,
 "nbformat_minor": 2
}
